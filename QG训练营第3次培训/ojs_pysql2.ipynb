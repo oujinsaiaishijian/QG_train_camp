{
 "cells": [
  {
   "cell_type": "code",
   "execution_count": 1,
   "metadata": {},
   "outputs": [],
   "source": [
    "import pymysql"
   ]
  },
  {
   "cell_type": "markdown",
   "metadata": {},
   "source": [
    "听说，使用PyMySQL模块固定不变的执行顺序是创建链接，创建游标，执行SQL语句，关闭游标和链接"
   ]
  },
  {
   "cell_type": "markdown",
   "metadata": {},
   "source": [
    "游标是一个存储在MySQL服务器上的数据库查询，它不是一条select语句，而是被该语句所检索出来的结果集。"
   ]
  },
  {
   "cell_type": "markdown",
   "metadata": {},
   "source": [
    "所以游标到底是个啥"
   ]
  },
  {
   "cell_type": "code",
   "execution_count": 2,
   "metadata": {},
   "outputs": [],
   "source": [
    "# 创建连接\n",
    "conn = pymysql.connect(\"localhost\",\"root\",\"581260\",\"oujinsai\")\n",
    "\n",
    "# 创建游标\n",
    "cursor = conn.cursor()"
   ]
  },
  {
   "cell_type": "markdown",
   "metadata": {},
   "source": [
    "额啊看不懂了la，这里使用execute()向数据库发出sql语句请求,格式好像是这个样子的，就是先用字符串的形式把命令给打好，然后再用execute（sql）来执行"
   ]
  },
  {
   "cell_type": "markdown",
   "metadata": {},
   "source": [
    "CREATE TABLE 库名；USER就是我的库名，这个括号给出了表的一些限定和描述，给出了id ，name，age 的描述，但是我还不知道auto_increment特别是后面的什么PRIMARY KEY"
   ]
  },
  {
   "cell_type": "code",
   "execution_count": 3,
   "metadata": {},
   "outputs": [
    {
     "name": "stdout",
     "output_type": "stream",
     "text": [
      "(1050, \"Table 'user' already exists\")\n"
     ]
    }
   ],
   "source": [
    "# 创建数据库的sql(如果数据库存在就不创建，防止异常)\n",
    "sql = \"\"\"\n",
    "    CREATE TABLE USER (\n",
    "    id INT auto_increment PRIMARY KEY ,\n",
    "    name CHAR(10) NOT NULL UNIQUE,\n",
    "    age TINYINT NOT NULL\n",
    "    )\n",
    "\"\"\"\n",
    "\n",
    "# 执行创建数据库的sql\n",
    "try:\n",
    "    cursor.execute(sql)\n",
    "except Exception as e:\n",
    "    print(e)\n",
    "    # 发生错误则回滚\n",
    "    conn.rollback()"
   ]
  },
  {
   "cell_type": "markdown",
   "metadata": {},
   "source": [
    "回滚的意思就是返回上一个操作"
   ]
  },
  {
   "cell_type": "code",
   "execution_count": 4,
   "metadata": {},
   "outputs": [
    {
     "name": "stdout",
     "output_type": "stream",
     "text": [
      "(1062, \"Duplicate entry 'little ou' for key 'user.name'\")\n"
     ]
    }
   ],
   "source": [
    "# 增加\n",
    "sql = \"\"\"\n",
    "    INSERT INTO USER(name, age)\n",
    "    VALUES(%s, %s)\n",
    "\"\"\"\n",
    "data = [\n",
    "    (\"little ou\", 20),\n",
    "    (\"middle ou\",21),\n",
    "    (\"old ou\",22)\n",
    "]\n",
    "try:\n",
    "    # 执行sql语句\n",
    "    cursor.executemany(sql, data)\n",
    "    # 提交执行\n",
    "    conn.commit()\n",
    "except Exception as e:\n",
    "    print(e)\n",
    "    # 发生错误则回滚\n",
    "    conn.rollback()"
   ]
  },
  {
   "cell_type": "markdown",
   "metadata": {},
   "source": [
    "有fetchone（）和fetchall（）之分,但是我用fetchone就会报错啊，我明明只输入了一个数据的，只改成fetchone也会报错说unable to fetch data"
   ]
  },
  {
   "cell_type": "code",
   "execution_count": 5,
   "metadata": {},
   "outputs": [
    {
     "name": "stdout",
     "output_type": "stream",
     "text": [
      "()\n"
     ]
    }
   ],
   "source": [
    "# 查询:select\n",
    "sql = \"SELECT * FROM USER \\\n",
    "       WHERE age = %d\" % (20)\n",
    "try:\n",
    "   # 执行SQL语句\n",
    "   cursor.execute(sql)\n",
    "   # 获取所有记录列表\n",
    "   results = cursor.fetchall()\n",
    "   print(results)\n",
    "   for row in results:\n",
    "      id = row[0]\n",
    "      name = row[1]\n",
    "      age = row[2]\n",
    "       # 打印结果\n",
    "      print (\"id:%s,name:%s,age=%d\" % \\\n",
    "              (id, name, age))\n",
    "except Exception as e:\n",
    "    print(e)\n",
    "    print (\"Error: unable to fetch data\")"
   ]
  },
  {
   "cell_type": "markdown",
   "metadata": {},
   "source": [
    "想瞎改都不行，怎么改都报错，但是有点感觉了"
   ]
  },
  {
   "cell_type": "code",
   "execution_count": 6,
   "metadata": {},
   "outputs": [],
   "source": [
    "# 改：UPDATE\n",
    "sql = \"UPDATE USER SET AGE = AGE + 1 WHERE name = '%s'\" % ('little ou')\n",
    "try:\n",
    "   # 执行SQL语句\n",
    "   cursor.execute(sql)\n",
    "   # 提交到数据库执行\n",
    "   conn.commit()\n",
    "except Exception as e:\n",
    "   print(e)\n",
    "   # 发生错误时回滚\n",
    "   conn.rollback()"
   ]
  },
  {
   "cell_type": "code",
   "execution_count": 7,
   "metadata": {},
   "outputs": [],
   "source": [
    "# 删：DELETE\n",
    "sql = \"DELETE FROM USER WHERE AGE = %s\" % (20)\n",
    "try:\n",
    "   # 执行SQL语句\n",
    "   cursor.execute(sql)\n",
    "   # 提交修改\n",
    "   conn.commit()\n",
    "except Exception as e:\n",
    "    print(e)\n",
    "   # 发生错误时回滚\n",
    "    conn.rollback()"
   ]
  },
  {
   "cell_type": "code",
   "execution_count": 13,
   "metadata": {},
   "outputs": [],
   "source": [
    "\n",
    "# ORDER BY\n",
    "sql = \"SELECT age FROM USER \\\n",
    "       where age order by age desc limit 1\"\n",
    "try:\n",
    "   # 执行SQL语句\n",
    "   cursor.execute(sql)\n",
    "   # 提交修改\n",
    "   conn.commit()\n",
    "except Exception as e:\n",
    "    print(e)\n",
    "   # 发生错误时回滚\n",
    "    conn.rollback()"
   ]
  }
 ],
 "metadata": {
  "kernelspec": {
   "display_name": "Python 3",
   "language": "python",
   "name": "python3"
  },
  "language_info": {
   "codemirror_mode": {
    "name": "ipython",
    "version": 3
   },
   "file_extension": ".py",
   "mimetype": "text/x-python",
   "name": "python",
   "nbconvert_exporter": "python",
   "pygments_lexer": "ipython3",
   "version": "3.7.4"
  }
 },
 "nbformat": 4,
 "nbformat_minor": 2
}
